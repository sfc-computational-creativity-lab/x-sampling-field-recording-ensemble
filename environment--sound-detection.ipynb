{
 "cells": [
  {
   "cell_type": "code",
   "execution_count": 43,
   "metadata": {},
   "outputs": [],
   "source": [
    "import librosa\n",
    "import librosa.display"
   ]
  },
  {
   "cell_type": "markdown",
   "metadata": {},
   "source": [
    "## Set Config"
   ]
  },
  {
   "cell_type": "code",
   "execution_count": 13,
   "metadata": {},
   "outputs": [],
   "source": [
    "import os\n",
    "from easydict import EasyDict\n",
    "\n",
    "conf = EasyDict()\n",
    "\n",
    "# Basic configurations\n",
    "conf.sampling_rate = 44100\n",
    "conf.duration = 1\n",
    "conf.hop_length = 347  # to make time steps 128\n",
    "conf.fmin = 20\n",
    "conf.fmax = conf.sampling_rate // 2\n",
    "conf.n_mels = 128\n",
    "conf.n_fft = conf.n_mels * 20\n",
    "conf.model = 'mobilenetv2'  # 'alexnet'\n",
    "\n",
    "# Labels\n",
    "conf.labels = ['Hi-hat', 'Saxophone', 'Trumpet', 'Glockenspiel', 'Cello', 'Knock',\n",
    "               'Gunshot_or_gunfire', 'Clarinet', 'Computer_keyboard',\n",
    "               'Keys_jangling', 'Snare_drum', 'Writing', 'Laughter', 'Tearing',\n",
    "               'Fart', 'Oboe', 'Flute', 'Cough', 'Telephone', 'Bark', 'Chime',\n",
    "               'Bass_drum', 'Bus', 'Squeak', 'Scissors', 'Harmonica', 'Gong',\n",
    "               'Microwave_oven', 'Burping_or_eructation', 'Double_bass', 'Shatter',\n",
    "               'Fireworks', 'Tambourine', 'Cowbell', 'Electric_piano', 'Meow',\n",
    "               'Drawer_open_or_close', 'Applause', 'Acoustic_guitar',\n",
    "               'Violin_or_fiddle', 'Finger_snapping']\n",
    "\n",
    "# Training configurations\n",
    "conf.folder = '.'\n",
    "conf.n_fold = 1\n",
    "conf.normalize = 'samplewise'\n",
    "conf.valid_limit = None\n",
    "conf.random_state = 42\n",
    "conf.test_size = 0.01\n",
    "conf.samples_per_file = 5\n",
    "conf.batch_size = 32\n",
    "conf.learning_rate = 0.0001\n",
    "conf.epochs = 500\n",
    "conf.verbose = 2\n",
    "conf.best_weight_file = 'best_mobilenetv2_weight.h5'\n",
    "\n",
    "# Runtime conficurations\n",
    "conf.rt_process_count = 1\n",
    "conf.rt_oversamples = 10\n",
    "conf.pred_ensembles = 10\n",
    "conf.runtime_model_file = os.path.join(os.path.dirname(\n",
    "    os.getcwd()), 'model', 'mobilenetv2_fsd2018_41cls.pb')\n",
    "\n",
    "conf.samples = conf.sampling_rate * conf.duration"
   ]
  },
  {
   "cell_type": "markdown",
   "metadata": {},
   "source": [
    "## Recorded Sounds"
   ]
  },
  {
   "cell_type": "code",
   "execution_count": 5,
   "metadata": {},
   "outputs": [
    {
     "name": "stdout",
     "output_type": "stream",
     "text": [
      "1115003250.wav 1115011608.wav 1115024746.wav 1115080540.wav 1118133634.wav\r\n",
      "1115003252.wav 1115011609.wav 1115024748.wav 1115080541.wav 1118133645.wav\r\n",
      "1115003300.wav 1115011610.wav 1115024749.wav 1115080543.wav 1118133703.wav\r\n",
      "1115003301.wav 1115011611.wav 1115024752.wav 1115080552.wav 1118133708.wav\r\n",
      "1115003306.wav 1115011615.wav 1115025010.wav 1115080834.wav 1118133745.wav\r\n",
      "1115003307.wav 1115011620.wav 1115025015.wav 1115081029.wav 1118134843.wav\r\n",
      "1115003308.wav 1115011634.wav 1115025022.wav 1115081154.wav 1118134858.wav\r\n",
      "1115003309.wav 1115011919.wav 1115025029.wav 1115081200.wav 1118134911.wav\r\n",
      "1115003310.wav 1115011921.wav 1115071541.wav 1115081204.wav 1118144101.wav\r\n",
      "1115004500.wav 1115011925.wav 1115071542.wav 1115081206.wav 1118144110.wav\r\n",
      "1115004501.wav 1115024029.wav 1115071600.wav 1115081210.wav 1119143942.wav\r\n",
      "1115004753.wav 1115024030.wav 1115071602.wav 1115081304.wav 1119143944.wav\r\n",
      "1115004755.wav 1115024031.wav 1115071605.wav 1115081307.wav 1119144013.wav\r\n",
      "1115005008.wav 1115024032.wav 1115071707.wav 1115081354.wav 1119144105.wav\r\n",
      "1115005009.wav 1115024033.wav 1115071729.wav 1115081355.wav 1119144409.wav\r\n",
      "1115005010.wav 1115024034.wav 1115072419.wav 1115081356.wav 1119144415.wav\r\n",
      "1115005019.wav 1115024035.wav 1115072420.wav 1115081406.wav 1119144529.wav\r\n",
      "1115005022.wav 1115024037.wav 1115072425.wav 1115081410.wav 1119144555.wav\r\n",
      "1115005248.wav 1115024042.wav 1115072431.wav 1115081415.wav 1119144637.wav\r\n",
      "1115005854.wav 1115024043.wav 1115072433.wav 1115081642.wav 1119144656.wav\r\n",
      "1115010118.wav 1115024048.wav 1115074750.wav 1115081643.wav 1119144706.wav\r\n",
      "1115010912.wav 1115024111.wav 1115074804.wav 1115081644.wav 1119144740.wav\r\n",
      "1115010913.wav 1115024115.wav 1115074956.wav 1115081651.wav 1119144903.wav\r\n",
      "1115010920.wav 1115024116.wav 1115075247.wav 1115081657.wav 1119145005.wav\r\n",
      "1115010925.wav 1115024300.wav 1115075248.wav 1115081838.wav 1119145028.wav\r\n",
      "1115010926.wav 1115024306.wav 1115075249.wav 1115081841.wav 1119145039.wav\r\n",
      "1115010950.wav 1115024454.wav 1115075250.wav 1115081843.wav 1119145044.wav\r\n",
      "1115010951.wav 1115024456.wav 1115075534.wav 1115081846.wav 1119145050.wav\r\n",
      "1115010952.wav 1115024459.wav 1115075538.wav 1115081847.wav 1119145559.wav\r\n",
      "1115010953.wav 1115024500.wav 1115075539.wav 1118132314.wav 1119145608.wav\r\n",
      "1115010955.wav 1115024501.wav 1115075559.wav 1118132322.wav 1119145617.wav\r\n",
      "1115010956.wav 1115024507.wav 1115075601.wav 1118132339.wav 1119145620.wav\r\n",
      "1115010959.wav 1115024512.wav 1115075602.wav 1118132349.wav 1119145624.wav\r\n",
      "1115011001.wav 1115024516.wav 1115075608.wav 1118132404.wav 1119145627.wav\r\n",
      "1115011002.wav 1115024604.wav 1115075611.wav 1118132420.wav 1119145631.wav\r\n",
      "1115011003.wav 1115024608.wav 1115075619.wav 1118132429.wav 1119145745.wav\r\n",
      "1115011005.wav 1115024621.wav 1115080428.wav 1118132438.wav 1119145748.wav\r\n",
      "1115011010.wav 1115024624.wav 1115080431.wav 1118132444.wav 1119145750.wav\r\n",
      "1115011013.wav 1115024736.wav 1115080433.wav 1118132458.wav 1119152636.wav\r\n",
      "1115011015.wav 1115024737.wav 1115080438.wav 1118132511.wav 1119152637.wav\r\n",
      "1115011559.wav 1115024740.wav 1115080439.wav 1118132525.wav 1119152644.wav\r\n",
      "1115011600.wav 1115024741.wav 1115080502.wav 1118132539.wav 1119152649.wav\r\n",
      "1115011601.wav 1115024743.wav 1115080508.wav 1118132618.wav 1119152653.wav\r\n",
      "1115011605.wav 1115024744.wav 1115080534.wav 1118132646.wav 1119152656.wav\r\n",
      "1115011606.wav 1115024745.wav 1115080536.wav 1118133529.wav 1119152919.wav\r\n"
     ]
    }
   ],
   "source": [
    "!ls sounds/"
   ]
  },
  {
   "cell_type": "code",
   "execution_count": 82,
   "metadata": {},
   "outputs": [],
   "source": [
    "y, sr = librosa.load(\"./sounds/1115011605.wav\", sr=conf.sampling_rate)\n",
    "\n",
    "# trim silence\n",
    "if 0 < len(y):  # workaround: 0 length causes error\n",
    "    y, _ = librosa.effects.trim(y)  # trim, top_db=default(60)\n",
    "\n",
    "    # make it unified length to conf.samples\n",
    "if len(y) > conf.samples:  # long enough\n",
    "    pass\n",
    "    # cut long file\n",
    "    # y = y[0:0+conf.samples]\n",
    "else:  # pad blank\n",
    "    padding = conf.samples - len(y)    # add padding at both ends\n",
    "    offset = padding // 2\n",
    "    y = np.pad(y, (offset, conf.samples - len(y) - offset), 'constant')"
   ]
  },
  {
   "cell_type": "code",
   "execution_count": 83,
   "metadata": {},
   "outputs": [
    {
     "data": {
      "text/plain": [
       "(151552,)"
      ]
     },
     "execution_count": 83,
     "metadata": {},
     "output_type": "execute_result"
    }
   ],
   "source": [
    "y.shape"
   ]
  },
  {
   "cell_type": "code",
   "execution_count": 84,
   "metadata": {},
   "outputs": [
    {
     "name": "stderr",
     "output_type": "stream",
     "text": [
      "/Users/atsuya/.pyenv/versions/anaconda3-5.1.0/lib/python3.6/site-packages/scipy/sparse/lil.py:515: FutureWarning: future versions will not create a writeable array from broadcast_array. Set the writable flag explicitly to avoid this warning.\n",
      "  if not i.flags.writeable or i.dtype not in (np.int32, np.int64):\n",
      "/Users/atsuya/.pyenv/versions/anaconda3-5.1.0/lib/python3.6/site-packages/scipy/sparse/lil.py:517: FutureWarning: future versions will not create a writeable array from broadcast_array. Set the writable flag explicitly to avoid this warning.\n",
      "  if not j.flags.writeable or j.dtype not in (np.int32, np.int64):\n"
     ]
    }
   ],
   "source": [
    "cq = np.abs(librosa.cqt(y=y, sr=sr, bins_per_octave=12*3, n_bins=7*12*3))"
   ]
  },
  {
   "cell_type": "code",
   "execution_count": 85,
   "metadata": {},
   "outputs": [
    {
     "data": {
      "text/plain": [
       "(252, 297)"
      ]
     },
     "execution_count": 85,
     "metadata": {},
     "output_type": "execute_result"
    }
   ],
   "source": [
    "cq.shape"
   ]
  },
  {
   "cell_type": "markdown",
   "metadata": {},
   "source": [
    "## Pitch Detection"
   ]
  },
  {
   "cell_type": "code",
   "execution_count": 86,
   "metadata": {},
   "outputs": [
    {
     "data": {
      "text/plain": [
       "[<matplotlib.lines.Line2D at 0x1c220e6080>]"
      ]
     },
     "execution_count": 86,
     "metadata": {},
     "output_type": "execute_result"
    },
    {
     "data": {
      "image/png": "[encoded data removed]",
      "text/plain": [
       "<matplotlib.figure.Figure at 0x1c222d1eb8>"
      ]
     },
     "metadata": {},
     "output_type": "display_data"
    }
   ],
   "source": [
    "import matplotlib.pyplot as plt\n",
    "%matplotlib inline\n",
    "\n",
    "\n",
    "plt.plot(y)"
   ]
  },
  {
   "cell_type": "code",
   "execution_count": 87,
   "metadata": {},
   "outputs": [],
   "source": [
    "import numpy as np\n",
    "\n",
    "y_stft = np.abs(librosa.stft(y, ))"
   ]
  },
  {
   "cell_type": "code",
   "execution_count": 88,
   "metadata": {},
   "outputs": [
    {
     "data": {
      "text/plain": [
       "(1025, 297)"
      ]
     },
     "execution_count": 88,
     "metadata": {},
     "output_type": "execute_result"
    }
   ],
   "source": [
    "y_stft.shape"
   ]
  },
  {
   "cell_type": "code",
   "execution_count": 89,
   "metadata": {},
   "outputs": [
    {
     "data": {
      "image/png": "[encoded data removed]",
      "text/plain": [
       "<matplotlib.figure.Figure at 0x1c223a0c18>"
      ]
     },
     "metadata": {},
     "output_type": "display_data"
    }
   ],
   "source": [
    "plt.figure(figsize=(10,4))\n",
    "librosa.display.specshow(y_stft, x_axis='time')\n",
    "plt.title('Power spectrogram')\n",
    "plt.colorbar(format='%+2.0f dB')\n",
    " \n",
    "plt.tight_layout()\n",
    "plt.show()"
   ]
  },
  {
   "cell_type": "code",
   "execution_count": 72,
   "metadata": {},
   "outputs": [
    {
     "data": {
      "text/plain": [
       "array([0.00000000e+00, 1.72265625e+01, 3.44531250e+01, ...,\n",
       "       2.20155469e+04, 2.20327734e+04, 2.20500000e+04])"
      ]
     },
     "execution_count": 72,
     "metadata": {},
     "output_type": "execute_result"
    }
   ],
   "source": [
    "librosa.fft_frequencies(sr=conf.sampling_rate, n_fft=conf.n_fft)"
   ]
  },
  {
   "cell_type": "code",
   "execution_count": null,
   "metadata": {},
   "outputs": [],
   "source": []
  }
 ],
 "metadata": {
  "kernelspec": {
   "display_name": "Python 3",
   "language": "python",
   "name": "python3"
  },
  "language_info": {
   "codemirror_mode": {
    "name": "ipython",
    "version": 3
   },
   "file_extension": ".py",
   "mimetype": "text/x-python",
   "name": "python",
   "nbconvert_exporter": "python",
   "pygments_lexer": "ipython3",
   "version": "3.6.8"
  }
 },
 "nbformat": 4,
 "nbformat_minor": 2
}
